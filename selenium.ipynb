{
 "cells": [
  {
   "cell_type": "code",
   "execution_count": 1,
   "id": "3c26d7d0",
   "metadata": {},
   "outputs": [],
   "source": [
    "#!pip3 install selenium"
   ]
  },
  {
   "cell_type": "code",
   "execution_count": 11,
   "id": "175492bb",
   "metadata": {},
   "outputs": [],
   "source": [
    "from selenium import webdriver\n",
    "from time import sleep"
   ]
  },
  {
   "cell_type": "code",
   "execution_count": 28,
   "id": "d38fe822",
   "metadata": {},
   "outputs": [],
   "source": [
    "driver = webdriver.Chrome()\n",
    "driver.implicitly_wait(10)"
   ]
  },
  {
   "cell_type": "code",
   "execution_count": 29,
   "id": "e8227b01",
   "metadata": {},
   "outputs": [],
   "source": [
    "driver.get('https://br.linkedin.com/jobs/ci%C3%AAncia-de-dados-vagas?position=1&pageNum=0')"
   ]
  },
  {
   "cell_type": "code",
   "execution_count": 30,
   "id": "eefeac49",
   "metadata": {},
   "outputs": [],
   "source": [
    "from selenium.webdriver.common.by import By\n",
    "from selenium.webdriver.common.keys import Keys"
   ]
  },
  {
   "cell_type": "code",
   "execution_count": 31,
   "id": "10812d96",
   "metadata": {},
   "outputs": [],
   "source": [
    "resultados = driver.find_elements(By.CLASS_NAME, 'base-card')"
   ]
  },
  {
   "cell_type": "code",
   "execution_count": 32,
   "id": "8ccb2620",
   "metadata": {},
   "outputs": [
    {
     "name": "stdout",
     "output_type": "stream",
     "text": [
      "['Na Horus, as soluções são desenvolvidas a partir dos milhões de dados de compras reais no varejo, incluindo preços, produtos, marcas, categorias, volume e presença no ponto de venda, além de informações precisas sobre o perfil e hábitos de consumo de seus compradores para, então, gerar insights acionáveis para a indústria e o varejo tomarem decisões seguras com base nas informações de compras dos shopper.\\n\\nAcreditamos que o comportamento das pessoas pode transformar o mercado por meio de , , e\\n\\nTemos o compromisso e valorização em construir um ambiente cada vez mais diverso, inclusivo e equitativo. Buscamos valorizar a Diversidade em nossos times e trazer talentos que estejam alinhados a esta cultura.\\n\\n\\n\\n\\n\\n\\n\\n\\n\\n\\n\\n\\n\\n\\n\\nA Horus se preocupa com a saúde e bem estar de todos nossos times e queremos cada vez mais implementar benefícios que atendam às necessidades dos nossos colaboradores. Desse modo, entendemos que a flexibilidade dos nossos benefícios permitem um maior aproveitamento dos mesmos.\\n\\n\\n\\n\\n\\n\\n\\n\\nDesde 2017, a Horus une tecnologia e inteligência para entregar informações de mercado para varejo e indústria, sobre performance e preço de marcas no varejo, comportamento e cesta do shopper. São bilhões de dados de compras reais no varejo, obtidos através do processamento de Notas Fiscais (NFe) do consumidor final, incluindo informações de produtos e quantidades, preços e descontos, forma de pagamento, ponto de venda, data e horário da transação. Dentre as modalidades de processamento, podemos destacar nossa plataforma colaborativa com mais de 400 mil consumidores espalhados por todo o país.\\n\\nPara nós, é muito importante termos um time diverso, independente de sexo, raça, orientação sexual, religião, nacionalidade, idade ou deficiência. Buscamos talentos que possam reforçar nossa cultura data driven, que acreditem na força de tecnologias disruptivas e se preocupem com informações ágeis e precisas, respeitando metodologias cada vez mais transparentes.\\n\\nQuer saber mais sobre como é o dia a dia de trabalho na Horus? Vem acompanhar empresa de inteligência de mercado que mais apoia seus clientes a alcançar suas estratégias de negócio, oferecendo uma visão 360º do mercado e do shopper por meio de inovadoras tecnologias de coleta de dados de consumo:\\n\\nhttps://www.instagram.com/horusinteligencia/\\n\\nhttps://www.linkedin.com/company/horusinteligencia/mycompany/\\n\\nhttps://www.ehorus.com.br/\\nExibir mais', 'Se você é uma pessoa movida por desafios, aqui é seu lugar!\\n\\nVenha fazer parte do Time de Inovações.\\n\\nNosso Programa de Estágio permite ao estagiário trabalhar com aprendizado de máquina, processamento de linguagem natural, captura e engenharia de dados, visualização, entre outras tarefas do pipeline de ciência de dados.\\n\\n\\n\\n\\n\\n\\n\\n\\n\\n\\nExibir mais', 'Venha fazer parte do #JeitodeSerBRT!\\n\\nA BRT Intelligence é uma empresa que busca contribuir para uma sociedade mais justa através da prevenção à fraude, garantindo que todos os produtos e serviços contratados sejam entregues às pessoas certas. A indignação frente a todo e quaisquer tipos de processos fraudulentos integra o nosso mindset.\\n\\nNosso cultiva a e a dos processos às relações e incentiva o do nosso time diariamente. Cada pessoa representa um papel importante em nossa história e se você procura um lugar para se desenvolver e deseja contribuir com a luta diária contra os fraudadores !\\n\\n\\n\\n\\n\\n\\n\\n\\n\\n\\n\\nEstamos trabalhando com\\nExibir mais', 'Destinado a universitários dos cursos de Engenharias, Administração, Economia, Estatística, Matemática, Ciência da Computação e Sistemas de Informação, com foco de atuação em projetos envolvendo Ciência de Dados (Inteligência Artificial, Machine Learning, Otimização, Simulação, entre outros). Você trabalhará com um time multidisciplinar, direcionado ao desenvolvimento de análises e à implantação de soluções baseadas em dados para geração de valor para nossos clientes.\\n\\n\\n\\n\\n\\n\\n\\n\\n\\nEste processo seletivo contém as seguintes etapas:\\nExibir mais', 'Data Team MadeiraMadeira\\n\\nNosso time de Dados é formado por mais de 30 profissionais engajados e determinados em busca de gerar valor com as melhores soluções em visualização, engenharia, governança, qualidade e ciência de dados. Aqui você vai encontrar uma galera apaixonada pelas tendências de tecnologia, e que está super disposta a compartilhar conhecimento. Bora crescer nesse timaço?\\n\\nO seu desafio será auxiliar na construção e manutenção de todo o pipeline de dados da empresa, DataLakes, ETLs, Workflows. Nesta função você irá desenvolver novas soluções aplicando as melhores práticas de mercado, levando até nossos clientes o que há de melhor em experiência do usuário.\\n\\n\\n\\n\\n\\n\\n\\n\\n\\n\\n\\n\\n\\n\\n\\n\\n\\n\\n\\n\\n\\n\\nAqui na MadeiraMadeira e em todas as empresas do grupo, temos princípios que devemos seguir com disciplina e consistência, fazendo com que o nosso propósito seja cumprido. Somos #protagonistas das nossas conquistas e #líderes do nosso destino.\\n\\n\\n🌈🌈\\n\\nSomos mais de 2000 pessoas que somam as diferenças para multiplicar: multiplicar um ambiente +diverso, +acolhedor, +criativo e +justo.\\n\\nValorizamos as diferentes possibilidades de ser e pensar. Por isso, criamos o , nosso programa de diversidade, inclusão e pertencimento.\\n\\nEsta é a nossa entrega para uma sociedade, uma empresa e pessoas melhores.\\n\\nSomos mais do que uma empresa: somos agentes de transformação, inovação e mudança.\\n\\n♿\\nExibir mais', 'Requisitos Cursando ensino superior em Matemárica Matemática Aplicada Estatística Ciência da Computação ou áreas correlatas. Experiência profissional ou escolar com Microsoft Excel. Experiência profissional ou escolar em linguagem de programação. Linguagens Python e SQL são diferenciais. Conhecimento em sistema operacional Linux (terminal).\\n\\n\\n\\n\\n\\nNão informado\\n\\n\\n\\n\\n\\nA combinar\\n\\n\\n\\nEstágio em Ciência da Computação\\n\\n\\n\\nGrhats Recursos Humanos\\n\\nConsultoria de Recursos Humanos.\\n\\n\\n\\nRecursos Humanos/ Recrutamento e seleção\\nExibir mais', '', 'Sobre o Nubank\\n\\nO Nubank foi fundado em 2013 para libertar as pessoas de um sistema financeiro burocrático, lento e ineficiente. Desde então, por meio de tecnologia inovadora e excelente atendimento ao cliente, a empresa vem redefinindo o relacionamento das pessoas com o dinheiro em toda a América Latina. Com operações no Brasil, México e Colômbia, o Nubank é hoje uma das maiores plataformas de serviços financeiros e uma das maiores empresas de tecnologia do mundo.\\n\\nHoje, o Nubank é uma empresa global, com escritórios em São Paulo (Brasil), Cidade do México (México), Buenos Aires (Argentina), Bogotá (Colômbia), Durham (Estados Unidos) e Berlim (Alemanha). Foi fundado em 2013 em São Paulo, pelo colombiano David Vélez, e tem como cofundadores a brasileira Cristina Junqueira e o americano Edward Wible. Para mais informações, visite www.nubank.com.br.\\n\\nNós somos um time de pessoas criativas e inovadoras, e todas as pessoas têm a chance de participarem ativamente, contribuírem com ideias e se desenvolverem profissionalmente.\\n\\nPara ter certeza que estamos construindo um ambiente mais diverso e inclusivo que reflita a realidade de quem são os consumidores que empoderamos todos os dias, nós buscamos recrutar nos movendo para um espaço de representatividade e proporcionalidade. Isso significa que consideramos diversos marcadores de identidade como fatores que enriquecem nossa empresa, garantindo que nenhum deles seja uma barreira para que possamos recrutar talentos incríveis.\\n\\nInscreva-se nessa página para fazer parte do nosso time e nos conte mais sobre sua carreira e sua história, nós estamos ansiosos para te conhecer, e aumentarmos a nossa nação roxa!\\n\\n\\n\\nEssa é uma vaga de Diversidade - Inclusão da Comunidade Negra. Nosso time de Recrutamento está constantemente revisando os currículos que chegam por aqui, e quando identificamos uma ótima oportunidade, entramos em contato com as pessoas para que elas participem do nosso processo de recrutamento.\\n\\n\\n\\nTodas as pessoas que se identificam como parte da comunidade negra podem se inscrever nessa página e em quaisquer outras vagas na nossa página de carreiras. Aqui, seu perfil será revisado e direcionado para áreas onde estamos recrutando, caso haja sinergia.\\n\\n\\n\\nEssa é uma plataforma para pessoas negras que desejam fazer parte do time do Nubank, caso você se identifique como parte de outros grupos, confira nossas oportunidades na página de carreiras.\\n\\n\\n\\nAcreditamos que diversidade é essencial para que possamos continuar criando produtos que possam empoderar milhões de pessoas na América Latina. Entendemos que a tecnologia é um campo de atuação em que a comunidade negra ainda é sub-representada, e queremos dar oportunidades de carreiras para todas as pessoas que desejem trabalhar conosco. Por isso, somos comprometidos em mudar esses números em todos os níveis e áreas de conhecimento da empresa.\\n\\n\\n\\nTodas as pessoas inscritas nessa página terão seus perfis revisados e direcionados para um processo de recrutamento em áreas com posições abertas, caso haja sinergia.\\n\\n\\n\\nSim, o Nubank está constante buscando por talentos em todo o Brasil e, devido à pandemia, todos os nossos processos de recrutamento e integração de novas pessoas contratadas estão sendo feitos de maneira remota e 100% online. Nós iremos avaliar a possibilidade de contratação de pessoas fora de São Paulo a depender da área e contexto de negócio.\\nExibir mais', 'Chega mais perto! Somos um time apaixonado por tecnologia que vem transformando a forma de se relacionar com as pessoas, proporcionando uma combinação perfeita entre humanos e robôs.\\n\\nNão nos prendemos à gênero, etnia, posição socioeconômica, religião ou orientação sexual: nada disso importa para qualquer desafio que você venha abraçar com a gente aqui.\\n\\nPra nós, o seu talento é o que interessa!\\n\\nAqui na SNX priorizamos a segurança dos smartianos e candidatos(as). Por isso, devido à pandemia do coronavírus, todos os nossos processos seletivos foram adaptados para que você possa realizar as etapas totalmente online e em segurança.\\n\\n\\n\\n\\n\\n\\n\\n\\n\\n\\n\\n\\n\\n\\n\\n\\n\\n\\nAlém de um excelente ambiente de trabalho, aqui você também pode crescer e prosperar!\\n\\nNossos benefícios para você:\\nExibir mais', 'DESCRIÇÃO\\n\\nTer a habilidade de interagir junto às áreas de negócios na resolução de seus problemas, avaliando grandes conjuntos de dados;\\n\\nConhecer bem todo o processo em Ciência de Dados, desde a importação, transformação e visualização dos dados, buscando a melhor estruturação das informações;\\n\\nElaborar modelos de Aprendizado de Máquina (Machine Learning) de previsão, bem como monitorar os indicativos de performance.\\n\\nTer conhecimentos básicos na linguagem SQL;\\n\\nTer bons conhecimentos em Estatística Descritiva e Inferencial;\\n\\nTer bons conhecimentos nas técnicas de aplicação dos modelos de Machine Learning, sabendo utilizar e diferenciar os mais diversos modelos, adotando métricas de medição de performance;\\n\\nTer bons conhecimentos nas linguagens R e/ou Python e nas suas respectivas bibliotecas em aplicações em todos os processos em Ciência de Dados.\\n\\n\\nEnsino Superior\\n\\n\\n\\nEntre 1 e 3 anos\\n\\n\\nExibir mais', 'Nível: Estagiário\\n\\nCursos de: Administração de banco de dados,Análise de sistemas,Análise e desenvolvimento de sistemas,Banco de dados,Ciências da computação,Computação,Computação e informática,Computação gráfica,Comunicação em computação gráfica,Defesa cibernética,Desenvolvimento de aplicações para web,Desenvolvimento de banco de dados,Desenvolvimento de jogos de entreterimento,Desenvolvimento de sistemas,Desenvolvimento de sistemas de informação,Desenvolvimento de sistemas de software,Desenvolvimento de sistemas distribuídos,Desenvolvimento de sistemas para a internet,Desenvolvimento de software para comércio eletrônico,Desenvolvimento de software para internet,Desenvolvimento de web site,Desenvolvimento para internet,Desenvolvimento para web,Desenvolvimento para web e comércio eletrônico,Engenharia da computação,Engenharia de automação,Engenharia de automação e controle,Engenharia de automação e sistemas,Engenharia de automação empresarial,Engenharia de automação industrial,Engenharia de computação - ênfase sistemas corporativos,Engenharia de computação e informação,Engenharia de informação,Engenharia de sistemas,Engenharia de software,Engenharia de teleinformática,Engenharia em sistemas digitais,Física computacional,Gerenciamento de redes de computadores,Gestão da informação,Gestão de tecnologia da informação,Gestão de internet e redes de computadores,Gestão de rede de computadores,Gestão de redes locais,Gestão de sistemas de informação,Gestão de sistemas informatizados - internet e redes,Informática,Informática e cidadania,Informática educacional,Informática para a gestão de negócios,Informática para negócios,Interdisciplinar em tecnologia da informação,Internet e redes de computadores,Jogos digitais,Matemática aplicada e computacional com habilitação em estatística econômica,Matemática computacional,Matemática e computação científica,Processamento de dados,Produção de software,Programação de computadores,Redes de computadores,Redes e ambientes operacionais,Segurança da informação,Sistema de informação,Sistemas de banco de dados,Sistemas de computação,Sistemas de informação,Sistemas de telecomunicações,Sistemas digitais,Sistemas e mídias digitais,Sistemas informatizados - internet e redes,Sistemas para internet,Software livre,Tecnologia da informação,Tecnologia da informação em web-designer,Tecnologia e mídias digitais,Tecnologias da informação e comunicação,Tecnologias digitais,Tecnologia em Big Data e inteligência Analítica,Licenciatura em Física ,Bacharelado em Física,Análise e desenvolvimento de sistemas,Information Technology (INFO),Tecnologia da Informação com enfase em Banco de Dados,Gestão de E-commerce,Tecnologia em Automação Industrial,Empreendedorismo e Inovação,Engenharia Informática,Gestão em Sistemas de Informação,Ciências e Tecnologia,Gestão da Tecnologia da Informação,Informática para Gestão de Negócios ,Tecnologia em Processos Gerenciais,Ciências de Dados,Técnico em Telecomunicação ,Técnica em Eletrotécnica\\n\\nGraduação - Tecnologia da Informação - Cursando\\n\\nEstagiário\\n\\nSegunda a sexta (horário flexível)\\n\\n\\n\\nVale refeição, Vale alimentação, Auxílio internet\\n\\n\\n\\n\\nExibir mais', 'Destinado a universitários dos cursos de Engenharias, Administração, Economia, Estatística, Matemática, Ciência da Computação e Sistemas de Informação, com foco de atuação em projetos envolvendo Ciência de Dados (Inteligência Artificial, Machine Learning, Otimização, Simulação, entre outros). Você trabalhará com um time multidisciplinar, direcionado ao desenvolvimento de análises e à implantação de soluções baseadas em dados para geração de valor para nossos clientes.\\n\\n\\n\\n\\n\\n\\n\\n\\n\\nEste processo seletivo contém as seguintes etapas:\\nExibir mais', 'Partiu democratizar o acesso à inteligência de Mercado?\\n\\nNa Horus, as soluções são desenvolvidas a partir dos milhões de dados de compras reais no varejo, incluindo preços, produtos, marcas, categorias, volume e presença no ponto de venda, além de informações precisas sobre o perfil e hábitos de consumo de seus compradores para, então, gerar insights acionáveis para a indústria e o varejo tomarem decisões seguras com base nas informações de compras dos shopper.\\n\\nAcreditamos que o comportamento das pessoas pode transformar o mercado por meio de, , e\\n\\nTemos o compromisso e valorização em construir um ambiente cada vez mais diverso, inclusivo e equitativo. Buscamos valorizar a Diversidade em nossos times e trazer talentos que estejam alinhados a esta cultura.\\n\\n\\n\\n🦅 Horus | Inteligência de Mercado\\n\\n\\n\\n\\n\\nO Banco de Talentos da Horus é o espaço aberto para receber talentos de todo Brasil que possuam interesse em se desenvolver e refletir a nossa cultura em cada entrega, considerando nossa e . Além disso, aqui na Horus temos o , inclusivo e equitativo. Buscamos valorizar a em nossos times e trazer talentos que estejam alinhados a esta .\\n\\n\\n\\n\\nCurtiu? Te convidamos a se cadastrar em nosso Banco de Talentos e, assim que surgir oportunidades alinhadas ao seu perfil, entraremos em contato!\\n\\n\\n\\n\\n\\n\\n\\n\\nA se preocupa com a saúde e bem estar de todos nossos times e queremos cada vez mais implementar benefícios que atendam às necessidades dos nossos colaboradores. Desse modo, entendemos que a flexibilidade dos nossos benefícios permitem uma maior aproveitamento dos mesmos.\\n\\n\\n\\n\\n\\n\\nDesde 2017, a Horus une tecnologia e inteligência para entregar informações de mercado para varejo e indústria, sobre performance e preço de marcas no varejo, comportamento e cesta do shopper. São bilhões de dados de compras reais no varejo, obtidos através do processamento de Notas Fiscais (NFe) do consumidor final, incluindo informações de produtos e quantidades, preços e descontos, forma de pagamento, ponto de venda, data e horário da transação. Dentre as modalidades de processamento, podemos destacar nossa plataforma colaborativa com mais de 400 mil consumidores espalhados por todo o país.\\n\\nSomos uma empresa de inteligência de mercado que apoia seus clientes a alcançar suas estratégias de negócio, oferecendo uma visão 360º do mercado e do shopper por meio de inovadoras tecnologias de coleta de dados de consumo.\\n\\n\\n\\nPara nós, é muito importante termos um, independente de sexo, raça, orientação sexual, religião, nacionalidade, idade ou deficiência. Buscamos talentos que possam reforçar nossa , que acreditam na força de , que se preocupam com e precisas e respeitando .\\nExibir mais', 'Somos uma cooperativa de crédito de livre admissão! Temos mais de 38 anos de história, mais de 160 mil cooperados e com mais de 120 postos de atendimento entre São Paulo, Minas Gerais e Mato Grosso do Sul, além de uma unidade móvel e um posto de atendimento 100% digital. Oferecemos aos nossos associados um amplo portfólio de produtos e serviços financeiros para pessoas físicas e jurídicas.\\n\\nAcreditamos que para o alcance do propósito, é preciso contar com profissionais engajados que acreditem que podemos realizar sonhos e cooperar por um mundo melhor!\\n\\nNosso propósito é somar forças para gerar prosperidade, transformar vidas e desenvolver a comunidade!\\n\\n\\n\\n\\n\\nExibir mais', 'O profissional irá atuar no Iti, na RT de Dados e Analytics como Engenheiro(a) de Dados;\\nSerá responsável pela captura de dados, processamento de dados (batch e stream), ingestão, armazenamento, distribuição e entrega de dados, além de atuar com o data lake.\\n\\n\\n\\n\\n\\n\\n\\n\\n\\nO Itaú irá utilizar os dados fornecidos para fins de processos seletivos, inclusive em bancos de vagas alocados em plataformas terceiras. Caso deseje solicitar oposição a este uso, ou exercer quaisquer um dos seus direitos, entre em contato através de nossos canais, disponíveis na Política de Privacidade de candidatos do Itaú Unibanco (https://www.itau.com.br/privacidade/candidatos/). Não há necessidade de aceitar, trata-se apenas de uma ciência.\\nExibir mais', '', '', '', 'Quem somos\\n\\nA Smarthis é uma Tech startup que desenvolve soluções feitas de humanos para humanos! Acreditamos que boas soluções surgem de fortes conexões entre pessoas, conhecimentos, ideias e ideais. Por isso, ser Smart é mais do que fazer parte de uma empresa, é viver verdadeiramente a cultura da colaboração e inovação que pulsa em nosso DNA.\\n\\nCom um time formado por diferentes gêneros, cores, crenças, culturas e orientações afetivas, que estão espalhados por todo o Brasil (e mundo!), nosso objetivo é auxiliar nossos clientes em seus desafios para a transformação digital. Desenvolvendo produtos e serviços tecnológicos para seus negócios, combinando o melhor do RPA (Robotic Process Automation), Data Analytics e Inteligência Artificial, por um time que tem paixão por inovação, desafios e aprendizado.\\n\\n\\n\\n– O respeito e o cuidado com o nosso time nos trouxeram uma premiação muito importante: em 2021, fomos reconhecidos como a 5ª melhor empresa para se trabalhar no Brasil e a 4ª no Rio de Janeiro, em nossa categoria.\\n\\nEm 2022, fomos premiados novamente. Neste ano subimos de categoria e somos Great Place To Work Média Empresas no Rio de Janeiro. Isso é resultado da união de um time com uma cultura alinhada com a nossa visão de futuro: o crescimento.\\n\\n– Pelo segundo ano consecutivo (2021 e 2022) estamos na lista das startups mais promissoras e inovadoras do ecossistema do Brasil, segundo a Pequenas Empresas e Grandes Negócios. O desenvolvimento das equipes e a maturidade para encontrar soluções nos trouxeram essa premiação importante.\\n\\n– Somos a primeira empresa da América Latina a conquistar as principais certificações da empresa líder mundial em RPA.\\n\\n– Somos reconhecidos como uma das 100 startups mais relevantes em ecossistemas corporativos de inovação, pela 100 Open Startups, a plataforma pioneira e líder de Open Innovation.\\n\\n– Acelerados pela Endeavor, a comunidade global líder de empreendedores de alto impacto, fazemos parte do programa de aceleração das empresas que mais crescem no Brasil, levando a transformação digital para o mercado\\n\\n\\n\\nAtualmente, temos escritórios no Rio de Janeiro, São Paulo, Miami e Buenos Aires. Mas não se preocupe! Para os que estiverem trabalhando remotamente, nossa cultura permanece a mesma: Integração total com happy hour online, noite de jogos, lives e outras programações legais! 😉\\n\\n\\n\\n\\n\\n\\n\\n\\n\\n\\n\\n\\n\\n\\n\\n\\n\\n\\nA transparência é um de nossos princípios e por isso fazemos questão de compartilhar cada etapa da seleção. Dessa forma você já sabe o que esperar! 😊\\n\\n\\nAh, e não se preocupe! Prezamos pela cultura do e sabemos como uma resposta, seja ela positiva ou negativa, é fundamental. Portanto, ao final de cada etapa, você será informado se foi ou não aprovado no processo.\\n\\n\\n\\nAqui entendemos que o nosso principal ativo é Por isso, fazemos questão de proporcionar um ambiente seguro e confortável onde nossa equipe cresça e se desenvolva tanto pessoal quanto profissionalmente. Pensando nisso, aqui estão alguns incentivos que oferecemos:\\n\\nParticipação dos lucros e resultados | Plano de Saúde | Plano Odontológico | Gympass | Cartão de benefícios flexíveis | Zenklub | Parceria com FIAP Escola de Tecnologia | Home office | Programa de treinamento | Plano de carreira definido | Horário flexível | Programa de mentoria | Licença parental de 6 meses |\\n\\nAlém disso, temos também iniciativas internas de Live coding, Happy hours, esportes ao ar livre, Coding Dojo (treinamento gamificado), rodas de conversa, entre outros. Ou seja, atividades para todos os gostos! 😊\\n\\nEntão vem acelerar a revolução digital com a gente! 🚀💚\\nExibir mais', 'Destinado a universitários dos cursos de Engenharias, Administração, Economia, Estatística, Matemática, Ciência da Computação e Sistemas de Informação, com foco de atuação em projetos envolvendo Ciência de Dados (Inteligência Artificial, Machine Learning, Otimização, Simulação, entre outros). Você trabalhará com um time multidisciplinar, direcionado ao desenvolvimento de análises e à implantação de soluções baseadas em dados para geração de valor para nossos clientes.\\n\\n\\n\\n\\n\\n\\n\\n\\n\\nEste processo seletivo contém as seguintes etapas:\\nExibir mais', 'Somos movidos por grandes desafios e precisamos de pessoas que amem aprender constantemente, que sonhem grande e que tenham muita vontade em nos ajudar a transformar e crescer.\\n\\nEstamos expandindo nossos horizontes e por isso procuramos pessoas que amem tecnologia, que sejam fascinadas por aprender coisas novas e que queiram fazer parte do nosso time!\\n\\n\\n\\n\\n\\n\\n\\nExibir mais', 'Coletar, transformar, armazenar e distribuir dados internos e externos para a empresa; Construir, gerenciar e evoluir o pipeline; Definir arquitetura e soluções técnicas dos projetos; Coleta, combinação e disponibilização de dados; Preparação de data mart/DW utilizando melhores práticas de modelagem; Configurar/desenvolver a ingestão de dados; Garantir a disponibilidade e performance da plataforma de dados; Implementar/gerir métodos de confidencialidade de dados; Disponibilização e integração de dados; Desenvolver estrutura de informações e dados, inclusive, com integração de dados estruturados com não estruturado; Trabalhar com um time de análise e ciência de dados na construção de soluções e geração de valor baseadas em dados.\\n\\n\\n\\nVale Transporte; Vale Refeição; Assistência Médica; Assistência Odontológica;\\n\\n\\n\\nEnsino superior completo.\\n\\n\\n\\nNecessário o conhecimento em Alterix; ETL; Java; Apache Airflow; API; Data Lake. Se você tem conhecimento ou deseja em Ruby;Python; Scala; Lambda; SQL; modelagem dimensional; Cloud; ferramentas de mensageria (Kafka, Kinesis, PubSub e ecossistema Hadoop) será um grande diferencial para a oportunidade.\\n\\n\\n\\nAcima de R$ 10.000,00\\n\\n\\n\\nAnalista de Dados\\n\\n\\n\\nInnolevels\\n\\nAtua como reparação e manutenção de computadores e de equipamentos periféricos.\\n\\n\\n\\nInformática/ Tecnologia\\nExibir mais', 'Descrição da vaga: Suporte na confecção de publicações institucionais através de pesquisa para embasamento teórico/prático;\\n\\nAuxiliar na análise qualitativa e quantitativa de indicadores econômico-financeiro e operacional;\\n\\nApoio na alimentação da base de conhecimento do setor, mantendo o histórico dos estudos/ projetos realizados;\\n\\nDentre outras demandas de apoio pertinentes ao cargo.\\n\\nGraduação plena em andamento ou Tecnológica (administração de empresas, ciências atuariais, Ciências contábeis, Ciência da informação, economia, estatística, engenharia ou sistema de informação).\\n\\nSalário: a combinar\\n\\nContrato: Estagiário\\nExibir mais', '', 'Job Description\\n\\nNossa nave tem um lugar reservado pra você! Vamos, juntos, impactar bilhões de vidas com dados? 🚀\\n\\nSomos um time de apaixonados por tecnologia com diferentes graus de experiência e conhecimento, diversas origens e, principalmente, 100% motivados a levar inovação e inteligência para nossos clientes por meio das principais plataformas do mercado.\\n\\nAqui, valorizamos em todas as suas formas, e queremos avançar cada vez mais na construção e fortalecimento de um ambiente diverso e inclusivo.\\n\\nVem compartilhar desse sonho conosco!\\n\\n\\nSe você é da área de Engenharia ou Ciências de Dados e possui interesse em ingressar na área de engenharia de dados ou ciência de dados. Faça a sua candidatura em nosso banco de talentos! 💜\\n\\n\\n\\n\\n\\n💰 Salário compatível com o mercado;\\n\\n🍎 Flash (cartão flexível) com a recarga média de R$ 1.000/mês;\\n\\n🚑 Plano de Saúde Bradesco;\\n\\n🦷 Plano Odontológico Sulamérica;\\n\\n💜 Seguro de Vida;\\n\\n✅ Acompanhamento de saúde por meio da nossa parceria com a Oli Saúde;\\n\\n🏋🏽\\u200d♂️ Gympass;\\n\\n👶🏼 Auxílio Creche para mamães e papais;\\n\\n💰 PLR;\\n\\n🧠 Semantix Academy – área focada no desenvolvimento de soft skills e hard skills para o desenvolvimento da nossa equipe;\\n\\n💭 Aulas de inglês e espanhol (in company) com a Rosetta - após 03 meses de empresa;\\n\\n🚀 Plano de Carreira;\\n\\n💰 Parceria com a Creditas.\\n\\n\\n\\nSomos uma empresa de dados e Inteligência Artificial brasileira e primeira deep tech do país a entrar na Nasdaq, a bolsa de valores de Nova Iorque!\\n\\nMas, acima de tudo, aqui dentro, somos feitos de pessoas!\\n\\nPessoas que , queque colaboram e atuam como e\\n\\n\\nNa Semantix, valorizamos nossas equipes e as incentivamos a sempreporque sabemos que os nossos resultados e crescimento exponencial refletem a .\\n\\nE nós fazemos tudo isso sempre pautados pelae respeito à dos nossos Semânticos e Semânticas! 🤩\\n\\nComo gostamos de falar: “”\\n\\nEntão, que tal embarcar nessa nave com a gente e 🚀\\n\\nPolítica de Privacidade para Candidatos\\nExibir mais']\n"
     ]
    }
   ],
   "source": [
    "lista_descricoes = []\n",
    "for r in resultados:\n",
    "    r.click()\n",
    "    sleep(2)\n",
    "    descricao = driver.find_element(By.CLASS_NAME, 'description__text')\n",
    "    lista_descricoes.append(descricao.text)\n",
    "    \n",
    "print(lista_descricoes)\n",
    "\n",
    "driver.quit()"
   ]
  },
  {
   "cell_type": "code",
   "execution_count": 33,
   "id": "1b215fd4",
   "metadata": {},
   "outputs": [
    {
     "ename": "TypeError",
     "evalue": "'builtin_function_or_method' object is not subscriptable",
     "output_type": "error",
     "traceback": [
      "\u001b[1;31m---------------------------------------------------------------------------\u001b[0m",
      "\u001b[1;31mTypeError\u001b[0m                                 Traceback (most recent call last)",
      "Input \u001b[1;32mIn [33]\u001b[0m, in \u001b[0;36m<cell line: 1>\u001b[1;34m()\u001b[0m\n\u001b[1;32m----> 1\u001b[0m \u001b[38;5;124;43m'\u001b[39;49m\u001b[38;5;124;43m \u001b[39;49m\u001b[38;5;124;43m'\u001b[39;49m\u001b[38;5;241;43m.\u001b[39;49m\u001b[43mjoin\u001b[49m\u001b[43m[\u001b[49m\u001b[38;5;124;43m'\u001b[39;49m\u001b[38;5;124;43ma\u001b[39;49m\u001b[38;5;124;43m'\u001b[39;49m\u001b[43m,\u001b[49m\u001b[43m \u001b[49m\u001b[38;5;124;43m'\u001b[39;49m\u001b[38;5;124;43mb\u001b[39;49m\u001b[38;5;124;43m'\u001b[39;49m\u001b[43m,\u001b[49m\u001b[43m \u001b[49m\u001b[38;5;124;43m'\u001b[39;49m\u001b[38;5;124;43mc\u001b[39;49m\u001b[38;5;124;43m'\u001b[39;49m\u001b[43m]\u001b[49m\n",
      "\u001b[1;31mTypeError\u001b[0m: 'builtin_function_or_method' object is not subscriptable"
     ]
    }
   ],
   "source": [
    "' '.join['a', 'b', 'c']"
   ]
  },
  {
   "cell_type": "code",
   "execution_count": 35,
   "id": "f3ef3855",
   "metadata": {},
   "outputs": [],
   "source": [
    "descricao_salvar = '\\n'.join(lista_descricoes)"
   ]
  },
  {
   "cell_type": "code",
   "execution_count": 37,
   "id": "473d5314",
   "metadata": {},
   "outputs": [
    {
     "ename": "UnicodeEncodeError",
     "evalue": "'charmap' codec can't encode characters in position 5027-5028: character maps to <undefined>",
     "output_type": "error",
     "traceback": [
      "\u001b[1;31m---------------------------------------------------------------------------\u001b[0m",
      "\u001b[1;31mUnicodeEncodeError\u001b[0m                        Traceback (most recent call last)",
      "Input \u001b[1;32mIn [37]\u001b[0m, in \u001b[0;36m<cell line: 1>\u001b[1;34m()\u001b[0m\n\u001b[0;32m      1\u001b[0m \u001b[38;5;28;01mwith\u001b[39;00m \u001b[38;5;28mopen\u001b[39m(\u001b[38;5;124m'\u001b[39m\u001b[38;5;124mdescricoes_vagas.txt\u001b[39m\u001b[38;5;124m'\u001b[39m, \u001b[38;5;124m'\u001b[39m\u001b[38;5;124mw\u001b[39m\u001b[38;5;124m'\u001b[39m) \u001b[38;5;28;01mas\u001b[39;00m f:\n\u001b[1;32m----> 2\u001b[0m     \u001b[43mf\u001b[49m\u001b[38;5;241;43m.\u001b[39;49m\u001b[43mwrite\u001b[49m\u001b[43m(\u001b[49m\u001b[43mdescricao_salvar\u001b[49m\u001b[43m)\u001b[49m\n",
      "File \u001b[1;32m~\\Anaconda3\\lib\\encodings\\cp1252.py:19\u001b[0m, in \u001b[0;36mIncrementalEncoder.encode\u001b[1;34m(self, input, final)\u001b[0m\n\u001b[0;32m     18\u001b[0m \u001b[38;5;28;01mdef\u001b[39;00m \u001b[38;5;21mencode\u001b[39m(\u001b[38;5;28mself\u001b[39m, \u001b[38;5;28minput\u001b[39m, final\u001b[38;5;241m=\u001b[39m\u001b[38;5;28;01mFalse\u001b[39;00m):\n\u001b[1;32m---> 19\u001b[0m     \u001b[38;5;28;01mreturn\u001b[39;00m \u001b[43mcodecs\u001b[49m\u001b[38;5;241;43m.\u001b[39;49m\u001b[43mcharmap_encode\u001b[49m\u001b[43m(\u001b[49m\u001b[38;5;28;43minput\u001b[39;49m\u001b[43m,\u001b[49m\u001b[38;5;28;43mself\u001b[39;49m\u001b[38;5;241;43m.\u001b[39;49m\u001b[43merrors\u001b[49m\u001b[43m,\u001b[49m\u001b[43mencoding_table\u001b[49m\u001b[43m)\u001b[49m[\u001b[38;5;241m0\u001b[39m]\n",
      "\u001b[1;31mUnicodeEncodeError\u001b[0m: 'charmap' codec can't encode characters in position 5027-5028: character maps to <undefined>"
     ]
    }
   ],
   "source": [
    "with open('descricoes_vagas.txt', 'w') as f:\n",
    "    f.write(descricao_salvar)"
   ]
  },
  {
   "cell_type": "code",
   "execution_count": null,
   "id": "c0ce545e",
   "metadata": {},
   "outputs": [],
   "source": []
  }
 ],
 "metadata": {
  "kernelspec": {
   "display_name": "Python 3 (ipykernel)",
   "language": "python",
   "name": "python3"
  },
  "language_info": {
   "codemirror_mode": {
    "name": "ipython",
    "version": 3
   },
   "file_extension": ".py",
   "mimetype": "text/x-python",
   "name": "python",
   "nbconvert_exporter": "python",
   "pygments_lexer": "ipython3",
   "version": "3.9.12"
  }
 },
 "nbformat": 4,
 "nbformat_minor": 5
}
